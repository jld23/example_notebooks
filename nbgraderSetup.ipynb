{
 "cells": [
  {
   "cell_type": "code",
   "execution_count": 1,
   "metadata": {
    "collapsed": false
   },
   "outputs": [
    {
     "data": {
      "text/plain": [
       "'/python3/notebooks/jadean'"
      ]
     },
     "execution_count": 1,
     "metadata": {},
     "output_type": "execute_result"
    }
   ],
   "source": [
    "%pwd"
   ]
  },
  {
   "cell_type": "code",
   "execution_count": 2,
   "metadata": {
    "collapsed": false
   },
   "outputs": [
    {
     "name": "stdout",
     "output_type": "stream",
     "text": [
      "/python3/notebooks/jadean/stat_course\n"
     ]
    }
   ],
   "source": [
    "%cd /python3/notebooks/jadean/stat_course"
   ]
  },
  {
   "cell_type": "code",
   "execution_count": 3,
   "metadata": {
    "collapsed": false
   },
   "outputs": [
    {
     "data": {
      "text/plain": [
       "Student<sasask>"
      ]
     },
     "execution_count": 3,
     "metadata": {},
     "output_type": "execute_result"
    }
   ],
   "source": [
    "# create a connection to the db using the nbgrader API\n",
    "from nbgrader.api import Gradebook\n",
    "\n",
    "# connect to the database.\n",
    "gb = Gradebook(\"sqlite:///gradebook.db\")\n",
    "\n",
    "# add some students to the database\n",
    "# template:\n",
    "# gb.add_student( \"<unix_username>\", first_name = \"<first_name>\", last_name = \"<last_name>\" )\n",
    "gb.add_student( \"jared\", first_name = \"Jared\", last_name = \"Dean\" )\n",
    "gb.add_student( \"brwuje\", first_name = \"Brett\", last_name = \"Wujeck\" )\n",
    "gb.add_student( \"catrux\", first_name = \"Cat\", last_name = \"Truxillo\" )\n",
    "gb.add_student( \"chris\", first_name = \"Chris\", last_name = \"Bailey\" )\n",
    "gb.add_student( \"gajohn\", first_name = \"Galen\", last_name = \"Johnson\" )\n",
    "gb.add_student( \"kesanf\", first_name = \"Ken\", last_name = \"Sanford\" )\n",
    "gb.add_student( \"sasaws\", first_name = \"Armistead\", last_name = \"Sapp\" )\n",
    "gb.add_student( \"sastpw\", first_name = \"Tom\", last_name = \"Weber\" )\n",
    "gb.add_student( \"sasask\", first_name = \"Amy\", last_name = \"Peters\" )"
   ]
  },
  {
   "cell_type": "code",
   "execution_count": 4,
   "metadata": {
    "collapsed": false
   },
   "outputs": [
    {
     "data": {
      "text/plain": [
       "Assignment<assignment2>"
      ]
     },
     "execution_count": 4,
     "metadata": {},
     "output_type": "execute_result"
    }
   ],
   "source": [
    "import os\n",
    "\n",
    "# remove an existing database\n",
    "if os.path.exists(\"gradebook.db\"):\n",
    "    os.remove(\"gradebook.db\")\n",
    "\n",
    "# create a connection to the db using the nbgrader API\n",
    "from nbgrader.api import Gradebook\n",
    "gb = Gradebook(\"sqlite:///gradebook.db\")\n",
    "\n",
    "# add the assignment to the database and specify a due date\n",
    "gb.add_assignment(\"assignment2\", duedate=\"2016-02-01 15:00:00.000000 PST\")\n"
   ]
  },
  {
   "cell_type": "code",
   "execution_count": 5,
   "metadata": {
    "collapsed": false
   },
   "outputs": [
    {
     "name": "stderr",
     "output_type": "stream",
     "text": [
      "[AssignApp | WARNING] Removing existing assignment: release/assignment2\n",
      "[AssignApp | INFO] Copying source/./assignment2/tk.reportlog.13766 -> release/./assignment2/tk.reportlog.13766\n",
      "[AssignApp | INFO] Converting notebook source/./assignment2/CryptCell.ipynb to notebook\n",
      "[AssignApp | INFO] Writing 10356 bytes to release/./assignment2/CryptCell.ipynb\n",
      "[AssignApp | INFO] Converting notebook source/./assignment2/ExampleGradebook2.ipynb to notebook\n",
      "[AssignApp | WARNING] Removing unused grade_id from cell 1\n",
      "[AssignApp | WARNING] Removing unused grade_id from cell 4\n",
      "[AssignApp | INFO] Writing 8251 bytes to release/./assignment2/ExampleGradebook2.ipynb\n",
      "[AssignApp | INFO] Converting notebook source/./assignment2/Untitled.ipynb to notebook\n",
      "[AssignApp | INFO] Writing 3779 bytes to release/./assignment2/Untitled.ipynb\n",
      "[AssignApp | INFO] Converting notebook source/./assignment2/Untitled1.ipynb to notebook\n",
      "[AssignApp | INFO] Writing 895 bytes to release/./assignment2/Untitled1.ipynb\n",
      "[AssignApp | INFO] Converting notebook source/./assignment2/Untitled2.ipynb to notebook\n",
      "[AssignApp | INFO] Writing 1121 bytes to release/./assignment2/Untitled2.ipynb\n",
      "[AssignApp | INFO] Converting notebook source/./assignment2/assert.ipynb to notebook\n",
      "[AssignApp | INFO] Writing 5175 bytes to release/./assignment2/assert.ipynb\n",
      "[AssignApp | INFO] Converting notebook source/./assignment2/nbgrade Example.ipynb to notebook\n",
      "[AssignApp | INFO] Writing 3089 bytes to release/./assignment2/nbgrade Example.ipynb\n",
      "[AssignApp | INFO] Setting destination file permissions to 644\n"
     ]
    }
   ],
   "source": [
    "%%bash\n",
    "nbgrader assign assignment2 --force\n"
   ]
  },
  {
   "cell_type": "code",
   "execution_count": null,
   "metadata": {
    "collapsed": true
   },
   "outputs": [],
   "source": []
  },
  {
   "cell_type": "code",
   "execution_count": 8,
   "metadata": {
    "collapsed": false
   },
   "outputs": [
    {
     "name": "stderr",
     "output_type": "stream",
     "text": [
      "[ReleaseApp | INFO] Overwriting files: stat_course assignment2\n",
      "[ReleaseApp | INFO] Source: /python3/notebooks/jadean/stat_course/release/assignment2\n",
      "[ReleaseApp | INFO] Destination: /python3/notebooks/assignments/stat_course/outbound/assignment2\n",
      "[ReleaseApp | INFO] Released as: stat_course assignment2\n"
     ]
    }
   ],
   "source": [
    "%%bash\n",
    "nbgrader release --force assignment2"
   ]
  },
  {
   "cell_type": "code",
   "execution_count": 7,
   "metadata": {
    "collapsed": false
   },
   "outputs": [
    {
     "name": "stderr",
     "output_type": "stream",
     "text": [
      "[ListApp | INFO] Released assignments:\n",
      "[ListApp | INFO] stat_course Section9\n",
      "[ListApp | INFO] stat_course a3\n",
      "[ListApp | INFO] stat_course assignment2\n"
     ]
    }
   ],
   "source": [
    "%%bash\n",
    "nbgrader list "
   ]
  },
  {
   "cell_type": "code",
   "execution_count": null,
   "metadata": {
    "collapsed": false
   },
   "outputs": [],
   "source": [
    "%%bash\n",
    "nbgrader list --help"
   ]
  },
  {
   "cell_type": "code",
   "execution_count": null,
   "metadata": {
    "collapsed": true
   },
   "outputs": [],
   "source": [
    "! cp /python3/jupyterhub/nbgrader_config.py /python3/anaconda3/etc/jupyterhub"
   ]
  }
 ],
 "metadata": {
  "kernelspec": {
   "display_name": "Python 3",
   "language": "python",
   "name": "python3"
  },
  "language_info": {
   "codemirror_mode": {
    "name": "ipython",
    "version": 3
   },
   "file_extension": ".py",
   "mimetype": "text/x-python",
   "name": "python",
   "nbconvert_exporter": "python",
   "pygments_lexer": "ipython3",
   "version": "3.4.3"
  }
 },
 "nbformat": 4,
 "nbformat_minor": 0
}
